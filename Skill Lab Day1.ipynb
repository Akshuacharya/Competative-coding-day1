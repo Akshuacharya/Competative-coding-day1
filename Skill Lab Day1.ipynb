{
 "cells": [
  {
   "cell_type": "markdown",
   "id": "ca43b4ee-5ed9-4d6a-8971-14d2788d4240",
   "metadata": {},
   "source": [
    "Reverse an integer\n"
   ]
  },
  {
   "cell_type": "code",
   "execution_count": null,
   "id": "246b6e10-0b84-470c-996f-c5b2e221eeec",
   "metadata": {},
   "outputs": [],
   "source": [
    "#with typecasting\n",
    "def rev(num):#409\n",
    "    r=str(num)\n"
   ]
  },
  {
   "cell_type": "code",
   "execution_count": 5,
   "id": "6d6f9a1d-b748-4a4e-bcf3-28993cff5d94",
   "metadata": {},
   "outputs": [],
   "source": [
    "#without typecasting\n",
    "def reverse(num):    #912\n",
    "    result=0\n",
    "    while num!=0:    #912!=0    #91!=0\n",
    "        rem=num%10    #2    1    #9\n",
    "        result=result*10+rem #2   21    #219\n",
    "        num =num//10 #91  #9   #0\n",
    "    return result\n",
    "        \n",
    "        \n"
   ]
  },
  {
   "cell_type": "code",
   "execution_count": 6,
   "id": "f5c7da6a-836a-49bc-9ca5-58c9a1b5eaf1",
   "metadata": {},
   "outputs": [
    {
     "name": "stdout",
     "output_type": "stream",
     "text": [
      "941\n"
     ]
    }
   ],
   "source": [
    "print(reverse(149))"
   ]
  },
  {
   "cell_type": "code",
   "execution_count": 9,
   "id": "d33d6f6f-4a84-407d-8883-953acf54bb17",
   "metadata": {},
   "outputs": [],
   "source": [
    "def palindrome(num):    \n",
    "    N=num #N =912\n",
    "    rev=0\n",
    "    while N!=0:\n",
    "        rem=N%10\n",
    "        rev=rev*10+rem\n",
    "        N=N//10\n",
    "    return num ==rev\n"
   ]
  },
  {
   "cell_type": "code",
   "execution_count": null,
   "id": "4932023e-76f6-41e1-8a33-87cffa64094a",
   "metadata": {},
   "outputs": [],
   "source": []
  },
  {
   "cell_type": "code",
   "execution_count": null,
   "id": "95a5a853-08a6-4b3f-b5d7-9bab2d5d3ac7",
   "metadata": {},
   "outputs": [],
   "source": []
  }
 ],
 "metadata": {
  "kernelspec": {
   "display_name": "Python 3 (ipykernel)",
   "language": "python",
   "name": "python3"
  },
  "language_info": {
   "codemirror_mode": {
    "name": "ipython",
    "version": 3
   },
   "file_extension": ".py",
   "mimetype": "text/x-python",
   "name": "python",
   "nbconvert_exporter": "python",
   "pygments_lexer": "ipython3",
   "version": "3.11.7"
  }
 },
 "nbformat": 4,
 "nbformat_minor": 5
}
