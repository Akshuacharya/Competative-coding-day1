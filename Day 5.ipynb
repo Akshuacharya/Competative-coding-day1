{
 "cells": [
  {
   "cell_type": "markdown",
   "id": "45327b7e-5724-41ce-9584-75ceaa115dc0",
   "metadata": {},
   "source": [
    "Intersection of two arrays"
   ]
  },
  {
   "cell_type": "code",
   "execution_count": 7,
   "id": "233e11e6-ace5-4e7e-a88c-4555aca4cfb7",
   "metadata": {},
   "outputs": [],
   "source": [
    "def intersection( nums1, nums2):\n",
    "       set1=set(nums1)\n",
    "       set2=set(nums2)\n",
    "       return list(set1.intersection(set2))"
   ]
  },
  {
   "cell_type": "code",
   "execution_count": 8,
   "id": "574fbbf8-a5c7-40c4-b8ed-82e55189413e",
   "metadata": {},
   "outputs": [
    {
     "data": {
      "text/plain": [
       "[2, 3]"
      ]
     },
     "execution_count": 8,
     "metadata": {},
     "output_type": "execute_result"
    }
   ],
   "source": [
    "intersection([1,2,3,2],[4,2,3,2])"
   ]
  },
  {
   "cell_type": "markdown",
   "id": "fbba1b25-a8a0-4090-b1ee-9737219c1ba8",
   "metadata": {},
   "source": [
    "Rat count House"
   ]
  },
  {
   "cell_type": "code",
   "execution_count": 18,
   "id": "14ddcdca-a44b-44e4-9556-1c45cbd8b89d",
   "metadata": {},
   "outputs": [],
   "source": [
    "def ratcount(r,unit,arr,n):\n",
    "    if n ==0:\n",
    "        return -1\n",
    "    totalfoodrequired=r*unit\n",
    "    foodTillNow=0\n",
    "    for house in range(n):\n",
    "        foodTillNow+=arr[house]\n",
    "        if foodTillNow>=totalfoodrequired:\n",
    "            break\n",
    "    if totalfoodrequired>foodTillNow:\n",
    "        return 0\n",
    "    return house+1\n",
    "    \n",
    "    \n",
    "    "
   ]
  },
  {
   "cell_type": "code",
   "execution_count": 24,
   "id": "d9130579-2665-4101-8599-d2bc94669696",
   "metadata": {},
   "outputs": [
    {
     "data": {
      "text/plain": [
       "6"
      ]
     },
     "execution_count": 24,
     "metadata": {},
     "output_type": "execute_result"
    }
   ],
   "source": [
    "ratcount(arr=[2,8,3,5,7,4],n=8,r=7,unit=4)"
   ]
  },
  {
   "cell_type": "markdown",
   "id": "2efad830-c104-47c3-b2d9-1391fe9983d5",
   "metadata": {},
   "source": [
    "Find the factors of the given number and print their num in a list\n",
    "input=12\n",
    "out=[1,2,3,4,6,12]"
   ]
  },
  {
   "cell_type": "code",
   "execution_count": 32,
   "id": "463ca75f-3a4c-4338-a424-da69e69e53ea",
   "metadata": {},
   "outputs": [],
   "source": [
    " def factors(num):\n",
    "     fac = []\n",
    "     for i in range(1, (num + 1)):\n",
    "           if num%i == 0:\n",
    "               fac.append(i)\n",
    "     return fac\n",
    " "
   ]
  },
  {
   "cell_type": "code",
   "execution_count": 33,
   "id": "f700cad6-d185-4720-812e-7cff9f0eb104",
   "metadata": {},
   "outputs": [
    {
     "data": {
      "text/plain": [
       "[1, 2, 3, 4, 6, 12]"
      ]
     },
     "execution_count": 33,
     "metadata": {},
     "output_type": "execute_result"
    }
   ],
   "source": [
    "factors(12)"
   ]
  },
  {
   "cell_type": "markdown",
   "id": "1db422c9-46c8-4e45-ba60-3b65ab99669e",
   "metadata": {},
   "source": [
    "#List comprehension"
   ]
  },
  {
   "cell_type": "code",
   "execution_count": 40,
   "id": "fffaf318-edbd-4c47-83f9-3b5d0ecfaef6",
   "metadata": {},
   "outputs": [],
   "source": [
    "def fact(num):\n",
    "    if num <=0:\n",
    "        return 0\n",
    "    mylist=[i for i in range(1,num+1) if num%i==0]\n",
    "    return mylist"
   ]
  },
  {
   "cell_type": "code",
   "execution_count": 41,
   "id": "ded21e38-e6f4-4a36-8649-e8740ad14037",
   "metadata": {},
   "outputs": [
    {
     "data": {
      "text/plain": [
       "[1, 2, 3, 4, 6, 12]"
      ]
     },
     "execution_count": 41,
     "metadata": {},
     "output_type": "execute_result"
    }
   ],
   "source": [
    "fact(12)"
   ]
  },
  {
   "cell_type": "markdown",
   "id": "6a45744a-ff67-4625-aa5a-2c5afb5e4e1a",
   "metadata": {},
   "source": [
    "Reverse a string using stack/array"
   ]
  },
  {
   "cell_type": "code",
   "execution_count": 6,
   "id": "48c89f1d-e6f9-46be-9c2c-4dc1d4580595",
   "metadata": {},
   "outputs": [],
   "source": [
    "class mystack:\n",
    "    def __init__(self):\n",
    "        self.st=[]\n",
    "    def revstr(self,mystr):\n",
    "        result=''\n",
    "        for i in mystr:\n",
    "            self.st.append(i)\n",
    "        for i in range(len(self.st)):\n",
    "            poped=self.st.pop()\n",
    "            result=result+poped\n",
    "        return result\n",
    "            \n",
    "\n",
    "    "
   ]
  },
  {
   "cell_type": "code",
   "execution_count": 7,
   "id": "92b82028-40df-447d-9fb3-e28ef6671c6d",
   "metadata": {},
   "outputs": [
    {
     "data": {
      "text/plain": [
       "'loohcs'"
      ]
     },
     "execution_count": 7,
     "metadata": {},
     "output_type": "execute_result"
    }
   ],
   "source": [
    "B=mystack()\n",
    "B.revstr(\"school\")"
   ]
  },
  {
   "cell_type": "markdown",
   "id": "472af753-29bd-4448-afa4-5ca9057cf99e",
   "metadata": {},
   "source": [
    "Find the Missing Number:"
   ]
  },
  {
   "cell_type": "code",
   "execution_count": 17,
   "id": "adc49500-4c73-49c4-b42a-552e502cc751",
   "metadata": {},
   "outputs": [],
   "source": [
    "def missingnum(arr):\n",
    "    for i in range (1,arr[-1]+1):\n",
    "        if i not in arr:\n",
    "            return i*'*'\n",
    "        "
   ]
  },
  {
   "cell_type": "code",
   "execution_count": 18,
   "id": "deb74b43-14ea-4b85-9574-5d0c919687db",
   "metadata": {},
   "outputs": [
    {
     "data": {
      "text/plain": [
       "'*******'"
      ]
     },
     "execution_count": 18,
     "metadata": {},
     "output_type": "execute_result"
    }
   ],
   "source": [
    "arr=[1,2,3,4,5,6,8,10]\n",
    "missingnum(arr)"
   ]
  },
  {
   "cell_type": "markdown",
   "id": "9c119219-a969-44b6-94e2-db1ca78e7753",
   "metadata": {},
   "source": [
    "Excel Sheet Column Number"
   ]
  },
  {
   "cell_type": "code",
   "execution_count": 22,
   "id": "6b01048c-112b-43c9-a6ae-2d3a919bde98",
   "metadata": {},
   "outputs": [
    {
     "data": {
      "text/plain": [
       "65"
      ]
     },
     "execution_count": 22,
     "metadata": {},
     "output_type": "execute_result"
    }
   ],
   "source": [
    "ord('A')"
   ]
  },
  {
   "cell_type": "code",
   "execution_count": 23,
   "id": "4151a10e-56f0-46c2-a351-f2ce2bcd395f",
   "metadata": {},
   "outputs": [
    {
     "data": {
      "text/plain": [
       "2"
      ]
     },
     "execution_count": 23,
     "metadata": {},
     "output_type": "execute_result"
    }
   ],
   "source": [
    "ord('B')-64"
   ]
  },
  {
   "cell_type": "code",
   "execution_count": 24,
   "id": "34c67db4-93c0-41f4-8a37-fa08e609cbbc",
   "metadata": {},
   "outputs": [],
   "source": [
    "def col(name):\n",
    "    result=0\n",
    "    for i in name:\n",
    "        result=result*26+ord(i)-64\n",
    "    return result"
   ]
  },
  {
   "cell_type": "code",
   "execution_count": 25,
   "id": "2e61d7dd-1da1-4ab0-97d8-095146f29afb",
   "metadata": {},
   "outputs": [
    {
     "data": {
      "text/plain": [
       "703"
      ]
     },
     "execution_count": 25,
     "metadata": {},
     "output_type": "execute_result"
    }
   ],
   "source": [
    "col('AAA')"
   ]
  },
  {
   "cell_type": "markdown",
   "id": "5c32099b-517d-44bd-b860-01ec44459ead",
   "metadata": {},
   "source": [
    "Demonstrate ATM Functions:\n",
    "Get the name,fetch the pin from dictionary,if pin matches proceed or print \"Invalid pin\" and quit the program.\n",
    "option 1:withdrawal\n",
    "option 2:Deposit\n",
    "option 3:Balance enquiry\n",
    "option 4:Offers on FD\n",
    "option 5:change atm pin\n",
    "option 6:Quit"
   ]
  },
  {
   "cell_type": "code",
   "execution_count": null,
   "id": "ca49c566-3c29-49c5-897c-6567fd74f77d",
   "metadata": {},
   "outputs": [],
   "source": [
    "pins={\"Akshatha\":4555,\"Ani\":7893,\"Kavya\":0011,\"Abhi\":8585,\"Ajith\":7676}\n",
    "bal={\"Akshatha\":5000,\"Ani\":8000,\"Kavya\":3000,\"Abhi\":100,\"Ajith\":50}\n"
   ]
  },
  {
   "cell_type": "code",
   "execution_count": 1,
   "id": "d7c4897f-0544-48fb-b083-6d1b99eb6eeb",
   "metadata": {},
   "outputs": [],
   "source": [
    "def atm():\n",
    "    pins={\"Akshatha\":\"4555\",\"Ani\":\"7893\",\"Kavya\":\"1511\",\"Abhi\":\"8585\",\"Ajith\":\"7676\"}\n",
    "    bal={\"Akshatha\":5000,\"Ani\":8000,\"Kavya\":3000,\"Abhi\":100,\"Ajith\":50}\n",
    "    name=input(\"Enter your name:\")\n",
    "    pin=input(\"Enter your pin:\")\n",
    "    if pins[name]!=pin:\n",
    "        return \"invalid pin\"\n",
    "    while True:\n",
    "        choices=\"Option 1:withdrawal\\n Option 2:Deposit\\n Option 3:Balance enquiry\\n Option 4:Offers an FD\\n 5:Option 6:quit\"\n",
    "        print(choices)\n",
    "        choice=int(input(\"enter choice:\"))\n",
    "        if choice==1:\n",
    "            print(\"withdrawal\")\n",
    "            w=int(input(\"Enter the withdrawal amount:\"))\n",
    "            if w>bal[name]:\n",
    "                print(\"Insufficient balance\")\n",
    "            else:\n",
    "                bal[name]=bal[name]+d\n",
    "        elif choice==2:\n",
    "            print(\"Deposit\")\n",
    "            d=int(input(\"Enter the deposit amount:\"))\n",
    "            bal[name]=bal[name]+d\n",
    "        elif choice==3:\n",
    "            print(\"Your current balance is:\",bal[name])\n",
    "        elif choice==4:\n",
    "            print(\"FD rates or high if you lock 1L for 5 years\")\n",
    "        elif choice==5:\n",
    "            newpin=input(\"Enter your pin:\")\n",
    "            pins[name]=newpin\n",
    "            print(\"pin updated\")\n",
    "        elif choice==6:\n",
    "            break"
   ]
  },
  {
   "cell_type": "code",
   "execution_count": 2,
   "id": "0c041d9e-d1ec-4fb6-a877-78c87d632605",
   "metadata": {},
   "outputs": [
    {
     "name": "stdin",
     "output_type": "stream",
     "text": [
      "Enter your name: Akshatha\n",
      "Enter your pin: 4555\n"
     ]
    },
    {
     "name": "stdout",
     "output_type": "stream",
     "text": [
      "Option 1:withdrawal\n",
      " Option 2:Deposit\n",
      " Option 3:Balance enquiry\n",
      " Option 4:Offers an FD\n",
      " 5:Option 6:quit\n"
     ]
    },
    {
     "name": "stdin",
     "output_type": "stream",
     "text": [
      "enter choice: 2\n"
     ]
    },
    {
     "name": "stdout",
     "output_type": "stream",
     "text": [
      "Deposit\n"
     ]
    },
    {
     "name": "stdin",
     "output_type": "stream",
     "text": [
      "Enter the deposit amount: 60000\n"
     ]
    },
    {
     "name": "stdout",
     "output_type": "stream",
     "text": [
      "Option 1:withdrawal\n",
      " Option 2:Deposit\n",
      " Option 3:Balance enquiry\n",
      " Option 4:Offers an FD\n",
      " 5:Option 6:quit\n"
     ]
    },
    {
     "name": "stdin",
     "output_type": "stream",
     "text": [
      "enter choice: 3\n"
     ]
    },
    {
     "name": "stdout",
     "output_type": "stream",
     "text": [
      "Your current balance is: 65000\n",
      "Option 1:withdrawal\n",
      " Option 2:Deposit\n",
      " Option 3:Balance enquiry\n",
      " Option 4:Offers an FD\n",
      " 5:Option 6:quit\n"
     ]
    },
    {
     "name": "stdin",
     "output_type": "stream",
     "text": [
      "enter choice: 4\n"
     ]
    },
    {
     "name": "stdout",
     "output_type": "stream",
     "text": [
      "FD rates or high if you lock 1L for 5 years\n",
      "Option 1:withdrawal\n",
      " Option 2:Deposit\n",
      " Option 3:Balance enquiry\n",
      " Option 4:Offers an FD\n",
      " 5:Option 6:quit\n"
     ]
    },
    {
     "name": "stdin",
     "output_type": "stream",
     "text": [
      "enter choice: 5\n",
      "Enter your pin: 4656\n"
     ]
    },
    {
     "name": "stdout",
     "output_type": "stream",
     "text": [
      "pin updated\n",
      "Option 1:withdrawal\n",
      " Option 2:Deposit\n",
      " Option 3:Balance enquiry\n",
      " Option 4:Offers an FD\n",
      " 5:Option 6:quit\n"
     ]
    },
    {
     "name": "stdin",
     "output_type": "stream",
     "text": [
      "enter choice: 6\n"
     ]
    }
   ],
   "source": [
    "atm()"
   ]
  },
  {
   "cell_type": "code",
   "execution_count": 5,
   "id": "831f4fdf-3d01-40c1-9090-6069d99cd3c1",
   "metadata": {},
   "outputs": [
    {
     "name": "stdout",
     "output_type": "stream",
     "text": [
      "5000\n"
     ]
    }
   ],
   "source": [
    "bal={\"Akshatha\":5000,\"Ani\":8000,\"Kavya\":3000,\"Abhi\":100,\"Ajith\":50}\n",
    "print(bal[\"Akshatha\"])"
   ]
  },
  {
   "cell_type": "markdown",
   "id": "2e602a9e-f07c-44c7-a2ee-8016651779ae",
   "metadata": {},
   "source": [
    "Removing Nth Node from Linked List"
   ]
  },
  {
   "cell_type": "code",
   "execution_count": 25,
   "id": "4bdd6233-698d-4fdb-9f2c-3769871ee302",
   "metadata": {},
   "outputs": [],
   "source": [
    "class linkedlist:\n",
    "    class Node:\n",
    "        def __init__(self,data):\n",
    "            self.data=data\n",
    "            self.next=None\n",
    "    def __init__(self):\n",
    "        self.head=None\n",
    "    def insertbegg(self,data):\n",
    "        newnode=linkedlist.Node(data)\n",
    "        newnode.next=self.head\n",
    "        self.head=newnode\n",
    "    def traverse(self,current):\n",
    "        current=self.head\n",
    "        while current:\n",
    "            print(current.data,end=\"-->\")\n",
    "            current=current.next\n",
    "        print(None)\n",
    "    def nodefromrev(self,n):\n",
    "        count=0\n",
    "        current=self.head\n",
    "        while current:\n",
    "            count=count+1\n",
    "            current=current.next\n",
    "        if count==n:\n",
    "            return self.head.next\n",
    "        ptr1=self.head\n",
    "        for _ in range(count-n-1):\n",
    "            ptr1=ptr1.next\n",
    "        ptr1.next=ptr1.next.next\n",
    "    "
   ]
  },
  {
   "cell_type": "code",
   "execution_count": 26,
   "id": "338a10e8-025c-405c-afd3-0a6f1259d5be",
   "metadata": {},
   "outputs": [],
   "source": [
    "LL=linkedlist()\n",
    "LL.insertbegg(60)\n",
    "LL.insertbegg(50)\n",
    "LL.insertbegg(70)\n",
    "LL.insertbegg(80)\n",
    "LL.insertbegg(50)\n",
    "\n",
    "\n"
   ]
  },
  {
   "cell_type": "code",
   "execution_count": 27,
   "id": "8bf9bc3b-a530-49b0-92ca-c3653182678a",
   "metadata": {},
   "outputs": [
    {
     "name": "stdout",
     "output_type": "stream",
     "text": [
      "50-->80-->70-->50-->60-->None\n"
     ]
    }
   ],
   "source": [
    "LL.traverse(linkedlist)"
   ]
  },
  {
   "cell_type": "code",
   "execution_count": 30,
   "id": "070945b9-3465-412e-9e4f-e3396bfe7cc2",
   "metadata": {},
   "outputs": [],
   "source": [
    "LL.nodefromrev(3)"
   ]
  },
  {
   "cell_type": "code",
   "execution_count": 31,
   "id": "b290cab5-b45b-41a9-b9dd-0ad64860a061",
   "metadata": {},
   "outputs": [
    {
     "name": "stdout",
     "output_type": "stream",
     "text": [
      "50-->80-->50-->60-->None\n"
     ]
    }
   ],
   "source": [
    "LL.traverse(linkedlist)"
   ]
  },
  {
   "cell_type": "code",
   "execution_count": null,
   "id": "c4d8158c-dac0-4de4-af76-796899aaf3c9",
   "metadata": {},
   "outputs": [],
   "source": []
  }
 ],
 "metadata": {
  "kernelspec": {
   "display_name": "Python 3 (ipykernel)",
   "language": "python",
   "name": "python3"
  },
  "language_info": {
   "codemirror_mode": {
    "name": "ipython",
    "version": 3
   },
   "file_extension": ".py",
   "mimetype": "text/x-python",
   "name": "python",
   "nbconvert_exporter": "python",
   "pygments_lexer": "ipython3",
   "version": "3.11.7"
  }
 },
 "nbformat": 4,
 "nbformat_minor": 5
}
