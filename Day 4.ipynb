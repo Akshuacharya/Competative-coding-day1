{
 "cells": [
  {
   "cell_type": "markdown",
   "id": "02a4d203-dffd-4557-9158-d93ba40eec76",
   "metadata": {},
   "source": [
    "Coding Problems On DSA"
   ]
  },
  {
   "cell_type": "markdown",
   "id": "edd74e8f-9b37-4ca2-a59e-ad899ce6c3fe",
   "metadata": {},
   "source": [
    "Insert at Beginning"
   ]
  },
  {
   "cell_type": "code",
   "execution_count": null,
   "id": "466b21c7-c3ae-499f-98ac-d78a9b3424d8",
   "metadata": {},
   "outputs": [],
   "source": [
    "LL=Linkedlist()\n",
    "    "
   ]
  },
  {
   "cell_type": "code",
   "execution_count": 21,
   "id": "b8e1f1d5-e3c0-419f-ba9b-f2e5e3cd77f7",
   "metadata": {},
   "outputs": [],
   "source": [
    "def hascycle(self):\n",
    "    t,r=self.head\n",
    "    while r and r.next:\n",
    "        t=t.next\n",
    "        r=r.next.next\n",
    "        if r==t:\n",
    "            return \"cycle found\"\n",
    "        return \"not cycle found\""
   ]
  },
  {
   "cell_type": "markdown",
   "id": "65c885f4-ff01-4898-899d-0f7db29ef1e5",
   "metadata": {},
   "source": [
    "Middle of the linked list"
   ]
  },
  {
   "cell_type": "code",
   "execution_count": 26,
   "id": "72df47e7-505d-4cb9-b29b-fa163deda103",
   "metadata": {},
   "outputs": [],
   "source": [
    "def hascycle(self):\n",
    "    t,r=self.head\n",
    "    while r and r.next:\n",
    "        t=t.next\n",
    "        r=r.next.next\n",
    "    return t"
   ]
  },
  {
   "cell_type": "markdown",
   "id": "0d50a2b2-db2d-4a77-9dd7-df6a37f05dfc",
   "metadata": {},
   "source": [
    "Reverse of a linked list"
   ]
  },
  {
   "cell_type": "code",
   "execution_count": 28,
   "id": "816235f8-2b97-4845-bdcf-9ed6d5a0b738",
   "metadata": {},
   "outputs": [],
   "source": [
    "def reverse(self):\n",
    "    prev=None\n",
    "    current=self.head\n",
    "    while current:\n",
    "        next_node=current.next\n",
    "        current.next=prev\n",
    "        prev=current\n",
    "        current=nextnode\n",
    "    head=prev\n",
    "    return prev"
   ]
  },
  {
   "cell_type": "markdown",
   "id": "f108f6af-479c-4379-af47-459a04aa0fa8",
   "metadata": {},
   "source": [
    "Merge Two lists"
   ]
  },
  {
   "cell_type": "code",
   "execution_count": 29,
   "id": "f9a89b6a-7e9a-445f-9185-63e8505c8fdc",
   "metadata": {},
   "outputs": [],
   "source": [
    "def Mergetwolists(self,l1,l2):\n",
    "    dummy=Node(0)\n",
    "    current=dummy\n",
    "    while l1 and l2:\n",
    "        if l1.val<l2.val:\n",
    "            current.next=l1\n",
    "            l1=l1.next\n",
    "        else:\n",
    "            current.next=l2\n",
    "            l2=l2.next\n",
    "    if l1:\n",
    "        current.next=l1\n",
    "    elif l2:\n",
    "        current.next=l2\n",
    "    return dummy.next\n",
    "            "
   ]
  },
  {
   "cell_type": "code",
   "execution_count": 3,
   "id": "53bcbd9a-b0a3-42f7-b64b-7d44069bd8fb",
   "metadata": {},
   "outputs": [],
   "source": [
    "def Calculate(m, n): \n",
    "    sum = 0 \n",
    "    for i in range(m, n+1): \n",
    "        if (i % 3 == 0) and (i % 5 == 0): \n",
    "            sum = sum + i \n",
    "    return sum \n",
    "    m = int(input(\"Enter the value of m: \")) \n",
    "    n = int(input(\"Enter the value of n: \")) \n",
    "    result = Calculate(m, n) \n",
    "    print(result) \n",
    " \n"
   ]
  },
  {
   "cell_type": "code",
   "execution_count": 7,
   "id": "62475c82-35f9-4fda-9d36-436adcbc7162",
   "metadata": {},
   "outputs": [
    {
     "data": {
      "text/plain": [
       "45"
      ]
     },
     "execution_count": 7,
     "metadata": {},
     "output_type": "execute_result"
    }
   ],
   "source": [
    "Calculate(15,30)"
   ]
  },
  {
   "cell_type": "markdown",
   "id": "f6aa879c-b55a-4aed-8a1f-aedcb91a5bd5",
   "metadata": {},
   "source": [
    "Add Two numbers"
   ]
  },
  {
   "cell_type": "code",
   "execution_count": 2,
   "id": "894b7e99-9ec7-458b-8ff6-7575c6784593",
   "metadata": {},
   "outputs": [],
   "source": [
    "def add(l1,l2):\n",
    "    carry=0\n",
    "    total=0\n",
    "    dummy=linkedlist.Node(0)\n",
    "    current=dummy\n",
    "    while l1 or l2 or carry:\n",
    "        val1=l1.data if l1 else 0\n",
    "        val2=l2.data if l2 else 0\n",
    "        total=val1+val2+carry\n",
    "        carry=total//10\n",
    "        element=total%10\n",
    "        newnode=linkedlist.Node(element)\n",
    "        current.next=newnode\n",
    "        current=current.next\n",
    "    return dummy.next\n",
    "        \n",
    "        \n",
    "        \n",
    "    "
   ]
  },
  {
   "cell_type": "markdown",
   "id": "8011f339-cb49-4cf9-b2a9-8b558c97a43a",
   "metadata": {},
   "source": [
    "Maximum sum of sub array"
   ]
  },
  {
   "cell_type": "code",
   "execution_count": 4,
   "id": "13e8c8a8-5506-48a5-8591-6823b5f11323",
   "metadata": {},
   "outputs": [],
   "source": [
    "def maxsum(arr):\n",
    "    c=arr[0]\n",
    "    g=arr[0]\n",
    "    for i in range(1,len(arr)):\n",
    "        c=max(arr[i],c+arr[i])\n",
    "        g=max(c,g)\n",
    "    return g"
   ]
  },
  {
   "cell_type": "code",
   "execution_count": 5,
   "id": "2282e065-c4b4-4051-b305-3ea10643cd87",
   "metadata": {},
   "outputs": [
    {
     "data": {
      "text/plain": [
       "11"
      ]
     },
     "execution_count": 5,
     "metadata": {},
     "output_type": "execute_result"
    }
   ],
   "source": [
    "maxsum([-1,-2,3,7,1,-6])"
   ]
  },
  {
   "cell_type": "markdown",
   "id": "1e6bd031-5270-4f44-88c7-4878d8dce39f",
   "metadata": {},
   "source": [
    "Implementing Queue as a stacks"
   ]
  },
  {
   "cell_type": "code",
   "execution_count": 9,
   "id": "8c6f731e-c967-4d7b-9e75-04b76e5cb3be",
   "metadata": {},
   "outputs": [],
   "source": [
    "class stack:\n",
    "    def __init__(self):\n",
    "        self.s1=[]\n",
    "        self.temp=[]\n",
    "    def push(self,val):\n",
    "        while self.s1:\n",
    "            popped=self.s1.pop()\n",
    "            self.temp.append(popped)\n",
    "        self.s1.append(val)\n",
    "        while self.temp:\n",
    "            poped=self.temp.pop()\n",
    "            self.s1.append(poped)\n",
    "    def pop(self):\n",
    "        return self.s1.pop() if self.s1 else \"No elements\"\n",
    "    def peek(self):\n",
    "        return self.s1[-1] if self.s1 else \"No elements\""
   ]
  },
  {
   "cell_type": "code",
   "execution_count": 10,
   "id": "0b95973f-1a5a-4f33-b645-d15043e3b71e",
   "metadata": {},
   "outputs": [
    {
     "data": {
      "text/plain": [
       "90"
      ]
     },
     "execution_count": 10,
     "metadata": {},
     "output_type": "execute_result"
    }
   ],
   "source": [
    "s=stack()\n",
    "s.push(90)\n",
    "s.push(86)\n",
    "s.push(56)\n",
    "s.pop()"
   ]
  },
  {
   "cell_type": "code",
   "execution_count": null,
   "id": "cc367b09-6d33-435a-8499-d43a0ee9e37f",
   "metadata": {},
   "outputs": [],
   "source": []
  }
 ],
 "metadata": {
  "kernelspec": {
   "display_name": "Python 3 (ipykernel)",
   "language": "python",
   "name": "python3"
  },
  "language_info": {
   "codemirror_mode": {
    "name": "ipython",
    "version": 3
   },
   "file_extension": ".py",
   "mimetype": "text/x-python",
   "name": "python",
   "nbconvert_exporter": "python",
   "pygments_lexer": "ipython3",
   "version": "3.11.7"
  }
 },
 "nbformat": 4,
 "nbformat_minor": 5
}
