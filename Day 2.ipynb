{
 "cells": [
  {
   "cell_type": "markdown",
   "id": "94f29394-ff29-4e85-a086-8301f2b7da99",
   "metadata": {},
   "source": [
    "Hyphens"
   ]
  },
  {
   "cell_type": "code",
   "execution_count": 2,
   "id": "81f89104-5707-49ea-8e78-8b7e15d0fe2f",
   "metadata": {},
   "outputs": [],
   "source": [
    "#hello-hi-sir\n",
    "def hyphens(s):\n",
    "    alph=''\n",
    "    hyp=''\n",
    "    for i in s: #h\n",
    "        if i=='-':\n",
    "            hyp=hyp+i\n",
    "        else:\n",
    "            alph=alph+i #''+h='h'\n",
    "    return hyp+alph"
   ]
  },
  {
   "cell_type": "code",
   "execution_count": 5,
   "id": "7508cb82-ea20-4554-b767-1322706d78dc",
   "metadata": {},
   "outputs": [
    {
     "data": {
      "text/plain": [
       "'--hiihellosir'"
      ]
     },
     "execution_count": 5,
     "metadata": {},
     "output_type": "execute_result"
    }
   ],
   "source": [
    "hyphens(\"Search-ing-for-a-passion\")\n",
    "hyphens(\"hii-hello-sir\")"
   ]
  },
  {
   "cell_type": "markdown",
   "id": "125d71b7-fd2d-4ef8-b8a8-2efc760364ef",
   "metadata": {},
   "source": [
    "N-Base\n"
   ]
  },
  {
   "cell_type": "code",
   "execution_count": 6,
   "id": "78751510-f873-4f83-9fd3-c81bf1fbe171",
   "metadata": {},
   "outputs": [],
   "source": [
    "def nbase(num,n): #718,12\n",
    "    while num!=0:\n",
    "        rem=num%n #1 #11\n",
    "        print(rem)\n",
    "        num=num//n"
   ]
  },
  {
   "cell_type": "code",
   "execution_count": 7,
   "id": "b4f2c953-fe96-4ecd-8eaf-3b35b3df48bd",
   "metadata": {},
   "outputs": [
    {
     "name": "stdout",
     "output_type": "stream",
     "text": [
      "10\n",
      "11\n",
      "4\n"
     ]
    }
   ],
   "source": [
    "nbase(718,12)"
   ]
  },
  {
   "cell_type": "code",
   "execution_count": 9,
   "id": "6e47c276-e890-4529-9d3a-127edb9856f9",
   "metadata": {},
   "outputs": [
    {
     "name": "stdout",
     "output_type": "stream",
     "text": [
      "B\n"
     ]
    }
   ],
   "source": [
    "rem=11\n",
    "c=chr(rem+55)\n",
    "print(c)"
   ]
  },
  {
   "cell_type": "code",
   "execution_count": 14,
   "id": "22dd9be3-1bac-49a6-9c30-3a48d3e2d3a2",
   "metadata": {},
   "outputs": [],
   "source": [
    "def nbase(num,n): #718,12\n",
    "    remi=[]\n",
    "    while num!=0:\n",
    "        rem=num%n #1 #11\n",
    "        remi.append(rem)\n",
    "        num=num//n\n",
    "    #conversion\n",
    "    result=''\n",
    "    for i in remi:#10\n",
    "        if i>9:\n",
    "            c=chr(i+55)\n",
    "            result=result+c\n",
    "        else:\n",
    "            c=str(i)\n",
    "            result=result+c\n",
    "    return result[::-1]"
   ]
  },
  {
   "cell_type": "code",
   "execution_count": 18,
   "id": "9b03e265-bb35-4a53-8980-1b7629422597",
   "metadata": {},
   "outputs": [
    {
     "data": {
      "text/plain": [
       "'2C6'"
      ]
     },
     "execution_count": 18,
     "metadata": {},
     "output_type": "execute_result"
    }
   ],
   "source": [
    "nbase(500,13)"
   ]
  },
  {
   "cell_type": "markdown",
   "id": "108bb905-9b5e-46b3-801c-e996095c4315",
   "metadata": {},
   "source": [
    "checkPassword"
   ]
  },
  {
   "cell_type": "code",
   "execution_count": 23,
   "id": "6dca3a11-0577-489b-928e-63f938ede5b1",
   "metadata": {},
   "outputs": [],
   "source": [
    "def password(pwd):\n",
    "    if len(pwd)<4:\n",
    "        return 0\n",
    "    if pwd[0].isdigit():\n",
    "        return 0\n",
    "    cap=0\n",
    "    nu=0\n",
    "    for i in pwd:\n",
    "        if i.isupper():\n",
    "            cap=1\n",
    "        elif i.isdigit():\n",
    "            nu=1\n",
    "        elif i==\"\"or i==\"/\":\n",
    "            return 0\n",
    "    if cap==1 and nu==1:\n",
    "        return 1\n",
    "    else:\n",
    "        return 0"
   ]
  },
  {
   "cell_type": "code",
   "execution_count": 24,
   "id": "00c34a01-e752-4d31-83ec-00fc0769849c",
   "metadata": {},
   "outputs": [
    {
     "data": {
      "text/plain": [
       "1"
      ]
     },
     "execution_count": 24,
     "metadata": {},
     "output_type": "execute_result"
    }
   ],
   "source": [
    "password(\"auON72\")"
   ]
  },
  {
   "cell_type": "markdown",
   "id": "8ecf0ce8-a6c5-4ea1-8fa9-60de6501c77e",
   "metadata": {},
   "source": [
    "sum of divisible and not divisible"
   ]
  },
  {
   "cell_type": "code",
   "execution_count": 29,
   "id": "6084ce6c-1864-4429-ac68-45ad6600f8be",
   "metadata": {},
   "outputs": [],
   "source": [
    "def differenceofSum(n,m):\n",
    "    sumdivm=0\n",
    "    sumdivn=0\n",
    "    for i in range(1,m+1):\n",
    "        if i%n==0:\n",
    "            sumdivm=sumdivm+i\n",
    "        else:\n",
    "            sumdivn=sumdivn+i\n",
    "    return abs(sumdivm-sumdivn)\n",
    "    "
   ]
  },
  {
   "cell_type": "code",
   "execution_count": 30,
   "id": "69f4b791-f787-4ea2-bc86-4b073e75eb96",
   "metadata": {},
   "outputs": [
    {
     "data": {
      "text/plain": [
       "129"
      ]
     },
     "execution_count": 30,
     "metadata": {},
     "output_type": "execute_result"
    }
   ],
   "source": [
    "differenceofSum(7,18)"
   ]
  },
  {
   "cell_type": "code",
   "execution_count": 33,
   "id": "9bf3af30-4c57-4234-a9fd-3c2cbe6af944",
   "metadata": {},
   "outputs": [
    {
     "name": "stdout",
     "output_type": "stream",
     "text": [
      "[4, 3, 2, 5]\n",
      "[1, 6, 11, 5]\n"
     ]
    }
   ],
   "source": [
    "arr=[4,1,3,6,2,11,5,5]\n",
    "n=len(arr)\n",
    "e=arr[0:n:2]\n",
    "o=arr[1:n:2]\n",
    "print(e)\n",
    "print(o)"
   ]
  },
  {
   "cell_type": "markdown",
   "id": "765a14df-4ef2-4e0b-8c82-a68270406d01",
   "metadata": {},
   "source": [
    "Large and smallsum"
   ]
  },
  {
   "cell_type": "code",
   "execution_count": 50,
   "id": "dde7a74c-9ecc-4a07-9a0c-6b3cb1974901",
   "metadata": {},
   "outputs": [],
   "source": [
    "def LargeSmallSum(arr):\n",
    "    if len(arr)<=3:\n",
    "        return 0\n",
    "    e=[]\n",
    "    o=[]\n",
    "    for i in range (len(arr)):\n",
    "        if i%2==0:\n",
    "            e.append(arr[i])\n",
    "        else:\n",
    "            o.append(arr[i])\n",
    "        e.sort(reverse=True)\n",
    "        o.sort()\n",
    "    return(e[1]+o[1])\n",
    "        \n",
    "            \n",
    "    "
   ]
  },
  {
   "cell_type": "code",
   "execution_count": 51,
   "id": "dc15b5ea-84ae-48b9-8324-6b8877e24957",
   "metadata": {},
   "outputs": [
    {
     "data": {
      "text/plain": [
       "9"
      ]
     },
     "execution_count": 51,
     "metadata": {},
     "output_type": "execute_result"
    }
   ],
   "source": [
    "arr=[4,1,3,6,2,11,5,5]\n",
    "LargeSmallSum(arr)"
   ]
  },
  {
   "cell_type": "markdown",
   "id": "2e46152e-40af-4bf1-b9fb-bfe4c367ec07",
   "metadata": {},
   "source": [
    "smallest pair\n",
    "    "
   ]
  },
  {
   "cell_type": "code",
   "execution_count": 1,
   "id": "a2374106-269c-4c31-be7a-43dc9b96c13d",
   "metadata": {},
   "outputs": [],
   "source": [
    "def pro(arr,s):\n",
    "    n=len(arr)\n",
    "    if n<2:\n",
    "        return -1\n",
    "    arr.sort()\n",
    "    if arr[0]+arr[1]<=s:\n",
    "        return arr[0]*arr[1]\n",
    "    else:\n",
    "        return 0"
   ]
  },
  {
   "cell_type": "code",
   "execution_count": 5,
   "id": "a131e638-c738-425c-abf2-fbe7a6fbda8b",
   "metadata": {},
   "outputs": [
    {
     "data": {
      "text/plain": [
       "3"
      ]
     },
     "execution_count": 5,
     "metadata": {},
     "output_type": "execute_result"
    }
   ],
   "source": [
    "pro([3,5,8,1,7,4],8)"
   ]
  },
  {
   "cell_type": "markdown",
   "id": "e15be078-0b97-4c56-95c5-6fad1e06601b",
   "metadata": {},
   "source": [
    "Absolute difference"
   ]
  },
  {
   "cell_type": "code",
   "execution_count": 28,
   "id": "1e59cac4-84e6-4aa3-bae2-9f493ef90ab5",
   "metadata": {},
   "outputs": [],
   "source": [
    "def findCount(arr,num,diff):\n",
    "    count=0\n",
    "    for i in arr:\n",
    "        if abs(i-num)<=diff:\n",
    "             count+=1\n",
    "    if count==0:\n",
    "         return -1\n",
    "    else:\n",
    "        return count"
   ]
  },
  {
   "cell_type": "code",
   "execution_count": 29,
   "id": "85db9e7f-77cb-4bb0-943b-b2f51e3c4d81",
   "metadata": {},
   "outputs": [
    {
     "data": {
      "text/plain": [
       "2"
      ]
     },
     "execution_count": 29,
     "metadata": {},
     "output_type": "execute_result"
    }
   ],
   "source": [
    "findCount([9,7,13,21,3],8,2)"
   ]
  },
  {
   "cell_type": "markdown",
   "id": "0ab91c71-afa4-4ff8-b0f5-70e0f0c8f6cc",
   "metadata": {},
   "source": [
    "#Valid parenthesis"
   ]
  },
  {
   "cell_type": "code",
   "execution_count": 32,
   "id": "2db48e09-f78d-4be2-a765-827f7cc39e6b",
   "metadata": {},
   "outputs": [
    {
     "name": "stdout",
     "output_type": "stream",
     "text": [
      "False\n"
     ]
    }
   ],
   "source": [
    "dict1={'(':')','{':'}','[':']'}\n",
    "i='%'\n",
    "print(i in dict1)"
   ]
  },
  {
   "cell_type": "code",
   "execution_count": 34,
   "id": "c6a10f89-f855-470d-bee5-8ea83d140329",
   "metadata": {},
   "outputs": [],
   "source": [
    "def validpara(p):\n",
    "    dict1={'(':')','{':'}','[':']'}\n",
    "    stack=[]\n",
    "    for i in p:\n",
    "        if i in dict1:\n",
    "            #found\n",
    "            stack.append(dict1[i])\n",
    "        else:\n",
    "            #notfound\n",
    "            if stack[-1]==i:\n",
    "                stack.pop()\n",
    "    if len(stack)==0:\n",
    "        return \"valid\"\n",
    "    else:\n",
    "        return \"Not valid\"\n",
    "       "
   ]
  },
  {
   "cell_type": "code",
   "execution_count": 37,
   "id": "f1b245e1-2e4d-4b0b-b34a-0d77dfd67d21",
   "metadata": {},
   "outputs": [
    {
     "data": {
      "text/plain": [
       "'valid'"
      ]
     },
     "execution_count": 37,
     "metadata": {},
     "output_type": "execute_result"
    }
   ],
   "source": [
    "validpara('[[{}]]')"
   ]
  },
  {
   "cell_type": "code",
   "execution_count": 38,
   "id": "1204ad59-aeb8-4a9e-a6ad-8de41064613b",
   "metadata": {},
   "outputs": [
    {
     "data": {
      "text/plain": [
       "'Not valid'"
      ]
     },
     "execution_count": 38,
     "metadata": {},
     "output_type": "execute_result"
    }
   ],
   "source": [
    "validpara('[[{}]')\n"
   ]
  },
  {
   "cell_type": "code",
   "execution_count": 40,
   "id": "f40344ce-feec-47ce-a1d2-113b6bd50a8e",
   "metadata": {},
   "outputs": [],
   "source": [
    "def validpara(p):\n",
    "    dict1={'(':')','{':'}','[':']'}\n",
    "    stack=[]\n",
    "    for i in p:\n",
    "        if i in dict1:\n",
    "            #found\n",
    "            stack.append(dict1[i])\n",
    "        else:\n",
    "            #notfound\n",
    "            if not stack or stack.pop()!=i:\n",
    "                return false\n",
    "    if len(stack)==0:\n",
    "        return True\n",
    "    else:\n",
    "        return False"
   ]
  },
  {
   "cell_type": "code",
   "execution_count": 41,
   "id": "fd9f0d1f-7eb6-4f68-8c98-26301981941f",
   "metadata": {},
   "outputs": [
    {
     "data": {
      "text/plain": [
       "True"
      ]
     },
     "execution_count": 41,
     "metadata": {},
     "output_type": "execute_result"
    }
   ],
   "source": [
    "validpara('[[{}]]')"
   ]
  },
  {
   "cell_type": "code",
   "execution_count": null,
   "id": "aa4a1f9e-a95b-4be1-89b7-5b63f893ea12",
   "metadata": {},
   "outputs": [],
   "source": []
  }
 ],
 "metadata": {
  "kernelspec": {
   "display_name": "Python 3 (ipykernel)",
   "language": "python",
   "name": "python3"
  },
  "language_info": {
   "codemirror_mode": {
    "name": "ipython",
    "version": 3
   },
   "file_extension": ".py",
   "mimetype": "text/x-python",
   "name": "python",
   "nbconvert_exporter": "python",
   "pygments_lexer": "ipython3",
   "version": "3.11.7"
  }
 },
 "nbformat": 4,
 "nbformat_minor": 5
}
