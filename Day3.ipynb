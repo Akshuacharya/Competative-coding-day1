{
 "cells": [
  {
   "cell_type": "markdown",
   "id": "473d68a4-980e-4254-a0b5-4d329d58feac",
   "metadata": {},
   "source": [
    "ADD BINARY"
   ]
  },
  {
   "cell_type": "code",
   "execution_count": 4,
   "id": "fe289e13-b851-4cc6-889f-7f4607d5a838",
   "metadata": {},
   "outputs": [
    {
     "name": "stdout",
     "output_type": "stream",
     "text": [
      "3\n"
     ]
    }
   ],
   "source": [
    "a=\"11\"\n",
    "b=int(a,2)\n",
    "print(b)"
   ]
  },
  {
   "cell_type": "code",
   "execution_count": 7,
   "id": "2a267c83-8531-4ac9-8ea7-bd35c9121d6d",
   "metadata": {},
   "outputs": [
    {
     "name": "stdout",
     "output_type": "stream",
     "text": [
      "1\n"
     ]
    }
   ],
   "source": [
    "c=\"1\"\n",
    "d=int(c,2)\n",
    "print(d)"
   ]
  },
  {
   "cell_type": "code",
   "execution_count": 8,
   "id": "8d5f8a6d-9e37-402f-87d7-04c1cd8df6a7",
   "metadata": {},
   "outputs": [
    {
     "data": {
      "text/plain": [
       "'100'"
      ]
     },
     "execution_count": 8,
     "metadata": {},
     "output_type": "execute_result"
    }
   ],
   "source": [
    "bin(b+d)[2:]"
   ]
  },
  {
   "cell_type": "code",
   "execution_count": 11,
   "id": "767f3196-d7a0-4636-bc90-c7faec404a8c",
   "metadata": {},
   "outputs": [],
   "source": [
    "def binadd(a,b):\n",
    "    return bin(int(a,2)+int(b,2))[1:]"
   ]
  },
  {
   "cell_type": "code",
   "execution_count": 12,
   "id": "773f76d1-3d37-4e51-9084-2cfa91836dbb",
   "metadata": {},
   "outputs": [
    {
     "data": {
      "text/plain": [
       "'b110'"
      ]
     },
     "execution_count": 12,
     "metadata": {},
     "output_type": "execute_result"
    }
   ],
   "source": [
    "binadd(\"101\",\"1\")"
   ]
  },
  {
   "cell_type": "markdown",
   "id": "0d2c0636-46b4-4ba6-adf0-2bc3e66b45f2",
   "metadata": {},
   "source": [
    "Distance between given paths"
   ]
  },
  {
   "cell_type": "code",
   "execution_count": 35,
   "id": "f8ed1fff-ebe7-46f6-a92b-3c2370948d2d",
   "metadata": {},
   "outputs": [],
   "source": [
    "def distance(x1,x2,x3,y1,y2,y3):\n",
    "    import math\n",
    "    frst_diff = math.sqrt(math.pow(x2-x1, 2) + math.pow(y2-y1, 2)) \n",
    "    snd_diff = math.sqrt(math.pow(x3-x2, 2) + math.pow(y3-y2, 2)) \n",
    "    thd_diff = math.sqrt(math.pow(x3-x1, 2) + math.pow(y3-y1, 2)) \n",
    "    return round(frst_diff,2), round(snd_diff,2), round(thd_diff,2)"
   ]
  },
  {
   "cell_type": "code",
   "execution_count": 36,
   "id": "d3e226db-1554-4d96-a0e8-38046c87ce9a",
   "metadata": {},
   "outputs": [
    {
     "data": {
      "text/plain": [
       "(2.83, 2.24, 3.0)"
      ]
     },
     "execution_count": 36,
     "metadata": {},
     "output_type": "execute_result"
    }
   ],
   "source": [
    "distance(4,6,7,9,7,9)"
   ]
  },
  {
   "cell_type": "code",
   "execution_count": 41,
   "id": "714cd500-a3ff-4477-99c3-477f77d7d756",
   "metadata": {},
   "outputs": [],
   "source": [
    "def sumofdistances(x1,x2,x3,y1,y2,y3):\n",
    "    AB=((x2-x1)**2+(y2-y1)**2)**0.5\n",
    "    BC=((x3-x2)**2+(y3-y2)**2)**0.5\n",
    "    CB=((x1-x3)**2+(y1-y3)**2)**0.5\n",
    "    return AB+BC+CB"
   ]
  },
  {
   "cell_type": "code",
   "execution_count": 42,
   "id": "283a19b1-3690-468f-9d41-8db14d3b8582",
   "metadata": {},
   "outputs": [
    {
     "data": {
      "text/plain": [
       "10.783510444802673"
      ]
     },
     "execution_count": 42,
     "metadata": {},
     "output_type": "execute_result"
    }
   ],
   "source": [
    "sumofdistances(x1=1,y1=1,x2=2,y2=4,x3=3,y3=6)"
   ]
  },
  {
   "cell_type": "markdown",
   "id": "d31b15c8-f5bb-4043-b1da-9ab0ec9bdbd5",
   "metadata": {},
   "source": [
    "A  TO  I"
   ]
  },
  {
   "cell_type": "code",
   "execution_count": 3,
   "id": "4b4d7e64-4857-4be0-8192-ebcbb13108a4",
   "metadata": {},
   "outputs": [],
   "source": [
    "def atoi(s):\n",
    "    s=s.strip()\n",
    "    sign=1\n",
    "    #signdness\n",
    "    if s[0]=='-':\n",
    "        sign=-1\n",
    "        s=s[1:]\n",
    "    elif s[0]=='+':\n",
    "        s=s[1:]\n",
    "    #conversion:\n",
    "    result=0\n",
    "    for i in s:\n",
    "        if i.isdigit():\n",
    "            digit=int(i)\n",
    "            result=result*10+digit\n",
    "        else:\n",
    "            break\n",
    "    result=result*sign\n",
    "    ##rounding to maxi or mini\n",
    "    mini=-2**31\n",
    "    maxi=2**31-1\n",
    "    if result>maxi:\n",
    "        return maxi\n",
    "    elif result<maxi:\n",
    "        return mini\n",
    "    else:\n",
    "        return result"
   ]
  },
  {
   "cell_type": "code",
   "execution_count": 4,
   "id": "f7003ece-a9cd-4b48-a081-8241b9a43e84",
   "metadata": {},
   "outputs": [
    {
     "data": {
      "text/plain": [
       "-2147483648"
      ]
     },
     "execution_count": 4,
     "metadata": {},
     "output_type": "execute_result"
    }
   ],
   "source": [
    "atoi(\"65298hyuio\")"
   ]
  },
  {
   "cell_type": "markdown",
   "id": "4f4d8643-fdc1-428d-bef3-154acc27a7d0",
   "metadata": {},
   "source": [
    "Roman to Integer"
   ]
  },
  {
   "cell_type": "code",
   "execution_count": 18,
   "id": "6d577bbe-a17f-43e0-a66d-9a42929aa93f",
   "metadata": {},
   "outputs": [],
   "source": [
    "def romantoInt(self,s):\n",
    "    transactions={\n",
    "        \"I\":1,\n",
    "        \"V\":5,\n",
    "        \"X\":10,\n",
    "        \"L\":50,\n",
    "        \"C\":100,\n",
    "        \"D\":500,\n",
    "        \"M\":1000\n",
    "    }\n",
    "    number=0\n",
    "    s = s.replace(\"IV\", \"IIII\").replace(\"IX\", \"VIIII\")\n",
    "    s = s.replace(\"XL\", \"XXXX\").replace(\"XC\", \"LXXXX\")\n",
    "    s = s.replace(\"CD\", \"CCCC\").replace(\"CM\", \"DCCCC\")\n",
    "    for char in s:\n",
    "        number += transactions[char]\n",
    "        return number\n",
    "    "
   ]
  },
  {
   "cell_type": "code",
   "execution_count": 20,
   "id": "17e8aec2-7e88-4ee1-91f7-18b497697bb7",
   "metadata": {},
   "outputs": [
    {
     "data": {
      "text/plain": [
       "1"
      ]
     },
     "execution_count": 20,
     "metadata": {},
     "output_type": "execute_result"
    }
   ],
   "source": [
    "romantoInt('IIII','IV')"
   ]
  },
  {
   "cell_type": "code",
   "execution_count": 21,
   "id": "352f48da-5187-4e74-8372-4a4642fc3a04",
   "metadata": {},
   "outputs": [],
   "source": [
    "def romanInto(s):\n",
    "    R={ \"I\":1,\n",
    "        \"V\":5,\n",
    "        \"X\":10,\n",
    "        \"L\":50,\n",
    "        \"C\":100,\n",
    "        \"D\":500,\n",
    "        \"M\":1000\n",
    "    }\n",
    "    total=0\n",
    "    for i in range(len(s)):\n",
    "        cval=R[s[i]]\n",
    "        nval=R[s[i+1]] if i+1<len(s)else 0\n",
    "        if cval>=nval:\n",
    "            total=total+cval\n",
    "        else:\n",
    "            total=total-cval\n",
    "    return total\n",
    "        "
   ]
  },
  {
   "cell_type": "code",
   "execution_count": 22,
   "id": "a45e4247-706b-4d8a-af38-0aee5965f6d6",
   "metadata": {},
   "outputs": [
    {
     "data": {
      "text/plain": [
       "58"
      ]
     },
     "execution_count": 22,
     "metadata": {},
     "output_type": "execute_result"
    }
   ],
   "source": [
    "romanInto('LVIII')"
   ]
  },
  {
   "cell_type": "markdown",
   "id": "f2f45ca4-0e57-4442-829b-3cb2d8de3050",
   "metadata": {},
   "source": [
    "Randomizing:"
   ]
  },
  {
   "cell_type": "code",
   "execution_count": 23,
   "id": "8d62d0d8-781b-48a1-8a7c-2dda94478b2b",
   "metadata": {},
   "outputs": [
    {
     "data": {
      "text/plain": [
       "[7, 6, 2, 4, 3]"
      ]
     },
     "execution_count": 23,
     "metadata": {},
     "output_type": "execute_result"
    }
   ],
   "source": [
    " import random\n",
    " l1=[2,3,4,6,7]\n",
    " random.shuffle(l1)\n",
    " l1"
   ]
  },
  {
   "cell_type": "code",
   "execution_count": 25,
   "id": "a40fb1d2-d7e0-4818-bd15-d1c0be75fd39",
   "metadata": {},
   "outputs": [],
   "source": [
    "def randomize(arr):\n",
    "    import random as rd\n",
    "    rd.shuffle(arr)\n",
    "    return arr"
   ]
  },
  {
   "cell_type": "code",
   "execution_count": 26,
   "id": "543696e6-1600-467f-956e-ebe4d3035cc2",
   "metadata": {},
   "outputs": [
    {
     "data": {
      "text/plain": [
       "[9, 2, 3, 4, 8, 5]"
      ]
     },
     "execution_count": 26,
     "metadata": {},
     "output_type": "execute_result"
    }
   ],
   "source": [
    "randomize([9,8,5,3,2,4])"
   ]
  },
  {
   "cell_type": "markdown",
   "id": "04ada455-cdf9-4153-8cde-ff055ffa0db8",
   "metadata": {},
   "source": [
    "Index of the first occurnce"
   ]
  },
  {
   "cell_type": "code",
   "execution_count": 1,
   "id": "8acaaec8-7571-4c0b-8aea-70dcabb80e6a",
   "metadata": {},
   "outputs": [],
   "source": [
    "def substring(haystack,needle):\n",
    "    return haystack.find(needle)"
   ]
  },
  {
   "cell_type": "code",
   "execution_count": 7,
   "id": "733dd15f-ca97-495b-9cbf-a06f19386e31",
   "metadata": {},
   "outputs": [
    {
     "data": {
      "text/plain": [
       "9"
      ]
     },
     "execution_count": 7,
     "metadata": {},
     "output_type": "execute_result"
    }
   ],
   "source": [
    "haystack='hellohibyAkshathahello'\n",
    "needle='Akshatha'\n",
    "substring(haystack,needle)"
   ]
  },
  {
   "cell_type": "markdown",
   "id": "01192260-1f80-46b1-9ed2-02b6cff12310",
   "metadata": {},
   "source": [
    "Two Sum:"
   ]
  },
  {
   "cell_type": "code",
   "execution_count": 8,
   "id": "c5457c14-537f-4631-a79a-fa17b3fc81b5",
   "metadata": {},
   "outputs": [],
   "source": [
    "def twosum(arr,target):\n",
    "    for i in range(len(arr)):\n",
    "        for j in range(i+1,len(arr)):\n",
    "            if arr[i]+arr[j]==target:\n",
    "                return[i,j]"
   ]
  },
  {
   "cell_type": "code",
   "execution_count": 9,
   "id": "ba097618-e68d-401f-ab1d-11578aa88c42",
   "metadata": {},
   "outputs": [
    {
     "data": {
      "text/plain": [
       "[3, 5]"
      ]
     },
     "execution_count": 9,
     "metadata": {},
     "output_type": "execute_result"
    }
   ],
   "source": [
    "twosum([2,3,11,15,7,6],21)"
   ]
  },
  {
   "cell_type": "markdown",
   "id": "4c70ae77-4e67-4174-b747-7f1b42914453",
   "metadata": {},
   "source": [
    "Tax Calculator"
   ]
  },
  {
   "cell_type": "code",
   "execution_count": 15,
   "id": "3c5491a9-d757-43fa-9b60-2ed757a0b09c",
   "metadata": {},
   "outputs": [],
   "source": [
    "def tax_calc(sal):\n",
    "    res=0\n",
    "    if sal<0:\n",
    "        return 0\n",
    "    elif sal>=0 and sal<=5000:\n",
    "        return \"No Tax\"\n",
    "    elif sal>=5001 and sal<=10000:\n",
    "        res=res+(sal-(sal*0.05+10))\n",
    "        return res\n",
    "    elif sal>=10001 and sal<=50000:\n",
    "        res=res+(sal-(sal*0.1+100))\n",
    "        return res\n",
    "    elif sal>=50001 and sal<=100000:\n",
    "        res=res+(sal-(sal*0.15+10))\n",
    "        return res\n",
    "    elif sal>=100000 and sal<=500000:\n",
    "        res=res+(sal-(sal*0.2+10))\n",
    "        return res\n",
    "    elif sal>500000:\n",
    "        return \"Salary Limit Exceeded\""
   ]
  },
  {
   "cell_type": "code",
   "execution_count": 17,
   "id": "66bfda85-6131-4141-bb73-208a9f92e48f",
   "metadata": {},
   "outputs": [
    {
     "data": {
      "text/plain": [
       "13400.0"
      ]
     },
     "execution_count": 17,
     "metadata": {},
     "output_type": "execute_result"
    }
   ],
   "source": [
    "tax_calc(15000)"
   ]
  },
  {
   "cell_type": "markdown",
   "id": "d4de2bfa-4035-4428-8fd4-573746764d52",
   "metadata": {},
   "source": [
    "Remove Duplicates from sorted array"
   ]
  },
  {
   "cell_type": "code",
   "execution_count": 33,
   "id": "23f8842f-bff5-4c26-8345-25e7051b0594",
   "metadata": {},
   "outputs": [],
   "source": [
    "def removeDuplicates(nums):\n",
    "     ind=0\n",
    "     for i in range(1,len(nums)):\n",
    "         if nums[ind]!=nums[i]:\n",
    "             ind=ind+1\n",
    "             nums[ind]=nums[i]\n",
    "     return ind+1"
   ]
  },
  {
   "cell_type": "code",
   "execution_count": 36,
   "id": "96b5aae1-74a7-48dd-a2e1-2d371826e83a",
   "metadata": {},
   "outputs": [
    {
     "data": {
      "text/plain": [
       "5"
      ]
     },
     "execution_count": 36,
     "metadata": {},
     "output_type": "execute_result"
    }
   ],
   "source": [
    "removeDuplicates([1,2,2,3,4,5,5])"
   ]
  },
  {
   "cell_type": "markdown",
   "id": "e254b2bd-bc34-471d-bdd8-66cdc592eb86",
   "metadata": {},
   "source": [
    "Claimbing stairs"
   ]
  },
  {
   "cell_type": "code",
   "execution_count": 53,
   "id": "37924660-96e5-42c9-aa03-8f1e39a8cc80",
   "metadata": {},
   "outputs": [],
   "source": [
    "def climbStairs(n): \n",
    "        if n <= 2: \n",
    "            return n \n",
    "        a = 1 \n",
    "        c = 2 \n",
    "        for i in range(3,n+1): \n",
    "            a,c = c, a+c\n",
    "        return a"
   ]
  },
  {
   "cell_type": "code",
   "execution_count": 54,
   "id": "62326f58-5800-41bb-8044-c09cbd06137d",
   "metadata": {},
   "outputs": [
    {
     "data": {
      "text/plain": [
       "610"
      ]
     },
     "execution_count": 54,
     "metadata": {},
     "output_type": "execute_result"
    }
   ],
   "source": [
    "climbStairs(15)"
   ]
  },
  {
   "cell_type": "code",
   "execution_count": null,
   "id": "4d99e6e4-f924-4696-9686-377cf62143d1",
   "metadata": {},
   "outputs": [],
   "source": []
  }
 ],
 "metadata": {
  "kernelspec": {
   "display_name": "Python 3 (ipykernel)",
   "language": "python",
   "name": "python3"
  },
  "language_info": {
   "codemirror_mode": {
    "name": "ipython",
    "version": 3
   },
   "file_extension": ".py",
   "mimetype": "text/x-python",
   "name": "python",
   "nbconvert_exporter": "python",
   "pygments_lexer": "ipython3",
   "version": "3.11.7"
  }
 },
 "nbformat": 4,
 "nbformat_minor": 5
}
